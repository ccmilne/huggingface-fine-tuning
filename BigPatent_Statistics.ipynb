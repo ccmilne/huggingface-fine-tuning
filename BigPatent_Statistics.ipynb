{
 "cells": [
  {
   "cell_type": "code",
   "execution_count": 12,
   "id": "0330aaf2",
   "metadata": {},
   "outputs": [],
   "source": [
    "from datasets import load_dataset\n",
    "\n",
    "import numpy as np\n",
    "import pandas as pd\n",
    "\n",
    "import string\n",
    "import re"
   ]
  },
  {
   "cell_type": "code",
   "execution_count": 2,
   "id": "8a9107f2",
   "metadata": {},
   "outputs": [
    {
     "name": "stderr",
     "output_type": "stream",
     "text": [
      "Reusing dataset big_patent (/home/ccmilne/.cache/huggingface/datasets/big_patent/h/1.0.0/bdefa7c0b39fba8bba1c6331b70b738e30d63c8ad4567f983ce315a5fef6131c)\n"
     ]
    },
    {
     "data": {
      "application/vnd.jupyter.widget-view+json": {
       "model_id": "218a88a472234221a624570d10aea2f6",
       "version_major": 2,
       "version_minor": 0
      },
      "text/plain": [
       "  0%|          | 0/3 [00:00<?, ?it/s]"
      ]
     },
     "metadata": {},
     "output_type": "display_data"
    }
   ],
   "source": [
    "dataset = load_dataset('big_patent', 'h')"
   ]
  },
  {
   "cell_type": "code",
   "execution_count": 13,
   "id": "64fa9a3c",
   "metadata": {},
   "outputs": [],
   "source": [
    "def clean(s):\n",
    "    a = s.translate(str.maketrans(' ', ' ', string.punctuation))\n",
    "    return re.sub('\\s+',' ', a).replace('\\n', '').strip()"
   ]
  },
  {
   "cell_type": "code",
   "execution_count": 16,
   "id": "cf77bdc0",
   "metadata": {},
   "outputs": [
    {
     "name": "stdout",
     "output_type": "stream",
     "text": [
      "train...done\n",
      "validation...done\n",
      "test...done\n"
     ]
    },
    {
     "data": {
      "text/plain": [
       "{'train': [3135.6844318902495, 2501.0, 111.84108178772776, 109.0],\n",
       " 'validation': [3113.6382099586804, 2497.0, 111.38973317459205, 108.0],\n",
       " 'test': [3104.1815953498144, 2496.0, 111.27810070733244, 108.0]}"
      ]
     },
     "execution_count": 16,
     "metadata": {},
     "output_type": "execute_result"
    }
   ],
   "source": [
    "median_lengths = {}\n",
    "\n",
    "for s in ['train', 'validation', 'test']:\n",
    "    \n",
    "    d_lengths = []\n",
    "    descriptions = dataset[s]['description']\n",
    "    for article in descriptions:\n",
    "        d_lengths.append(len(clean(article).split()))\n",
    "        \n",
    "    a_lengths = []\n",
    "    abstracts = dataset[s]['abstract']\n",
    "    for article in abstracts:\n",
    "        a_lengths.append(len(clean(article).split()))\n",
    "        \n",
    "    median_lengths[s] = [\n",
    "        np.mean(d_lengths),\n",
    "        np.median(d_lengths),\n",
    "        np.mean(a_lengths),\n",
    "        np.median(a_lengths),\n",
    "    ]\n",
    "    \n",
    "    print(f\"{s}...done\")\n",
    "median_lengths"
   ]
  },
  {
   "cell_type": "code",
   "execution_count": 21,
   "id": "9bf3322b",
   "metadata": {},
   "outputs": [
    {
     "data": {
      "text/html": [
       "<div>\n",
       "<style scoped>\n",
       "    .dataframe tbody tr th:only-of-type {\n",
       "        vertical-align: middle;\n",
       "    }\n",
       "\n",
       "    .dataframe tbody tr th {\n",
       "        vertical-align: top;\n",
       "    }\n",
       "\n",
       "    .dataframe thead th {\n",
       "        text-align: right;\n",
       "    }\n",
       "</style>\n",
       "<table border=\"1\" class=\"dataframe\">\n",
       "  <thead>\n",
       "    <tr style=\"text-align: right;\">\n",
       "      <th></th>\n",
       "      <th>length</th>\n",
       "      <th>train</th>\n",
       "      <th>validation</th>\n",
       "      <th>test</th>\n",
       "    </tr>\n",
       "  </thead>\n",
       "  <tbody>\n",
       "    <tr>\n",
       "      <th>0</th>\n",
       "      <td>description_mean</td>\n",
       "      <td>3135.684432</td>\n",
       "      <td>3113.638210</td>\n",
       "      <td>3104.181595</td>\n",
       "    </tr>\n",
       "    <tr>\n",
       "      <th>1</th>\n",
       "      <td>description_median</td>\n",
       "      <td>2501.000000</td>\n",
       "      <td>2497.000000</td>\n",
       "      <td>2496.000000</td>\n",
       "    </tr>\n",
       "    <tr>\n",
       "      <th>2</th>\n",
       "      <td>abstract_mean</td>\n",
       "      <td>111.841082</td>\n",
       "      <td>111.389733</td>\n",
       "      <td>111.278101</td>\n",
       "    </tr>\n",
       "    <tr>\n",
       "      <th>3</th>\n",
       "      <td>abstract_median</td>\n",
       "      <td>109.000000</td>\n",
       "      <td>108.000000</td>\n",
       "      <td>108.000000</td>\n",
       "    </tr>\n",
       "  </tbody>\n",
       "</table>\n",
       "</div>"
      ],
      "text/plain": [
       "               length        train   validation         test\n",
       "0    description_mean  3135.684432  3113.638210  3104.181595\n",
       "1  description_median  2501.000000  2497.000000  2496.000000\n",
       "2       abstract_mean   111.841082   111.389733   111.278101\n",
       "3     abstract_median   109.000000   108.000000   108.000000"
      ]
     },
     "execution_count": 21,
     "metadata": {},
     "output_type": "execute_result"
    }
   ],
   "source": [
    "results = pd.DataFrame(median_lengths).reset_index()\n",
    "\n",
    "results.columns = ['length', 'train', 'validation', 'test']\n",
    "\n",
    "results['length'] = [\n",
    "    'description_mean', 'description_median',\n",
    "    'abstract_mean', 'abstract_median'\n",
    "]\n",
    "\n",
    "results"
   ]
  },
  {
   "cell_type": "code",
   "execution_count": 22,
   "id": "f24e62b9",
   "metadata": {},
   "outputs": [
    {
     "data": {
      "text/plain": [
       "DatasetDict({\n",
       "    train: Dataset({\n",
       "        features: ['description', 'abstract'],\n",
       "        num_rows: 257019\n",
       "    })\n",
       "    validation: Dataset({\n",
       "        features: ['description', 'abstract'],\n",
       "        num_rows: 14279\n",
       "    })\n",
       "    test: Dataset({\n",
       "        features: ['description', 'abstract'],\n",
       "        num_rows: 14279\n",
       "    })\n",
       "})"
      ]
     },
     "execution_count": 22,
     "metadata": {},
     "output_type": "execute_result"
    }
   ],
   "source": [
    "dataset"
   ]
  }
 ],
 "metadata": {
  "kernelspec": {
   "display_name": "Python 3",
   "language": "python",
   "name": "python3"
  },
  "language_info": {
   "codemirror_mode": {
    "name": "ipython",
    "version": 3
   },
   "file_extension": ".py",
   "mimetype": "text/x-python",
   "name": "python",
   "nbconvert_exporter": "python",
   "pygments_lexer": "ipython3",
   "version": "3.8.8"
  }
 },
 "nbformat": 4,
 "nbformat_minor": 5
}
