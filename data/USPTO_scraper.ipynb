{
 "cells": [
  {
   "cell_type": "code",
   "execution_count": 79,
   "metadata": {},
   "outputs": [],
   "source": [
    "import requests\n",
    "import json\n",
    "import csv\n",
    "from tqdm import tqdm"
   ]
  },
  {
   "cell_type": "code",
   "execution_count": 80,
   "metadata": {},
   "outputs": [],
   "source": [
    "search_terms = [\n",
    "    'health', #100\n",
    "    'neuro', #100\n",
    "    'mass', #100\n",
    "    'chemistry', #38\n",
    "    'photon', #100\n",
    "    'laser', #100\n",
    "    'fusion', #100\n",
    "    'spectrum', #100\n",
    "    'organic', #100\n",
    "    'electromagnetic', #100\n",
    "    'cardiovascular', #27\n",
    "    'weight', #100\n",
    "]"
   ]
  },
  {
   "cell_type": "code",
   "execution_count": 81,
   "metadata": {},
   "outputs": [],
   "source": [
    "def GET_Request(search_term):\n",
    "    request_url = 'https://developer.uspto.gov/ibd-api/v1/application/publications?'\n",
    "    search_text = f'searchText={search_term}&'\n",
    "    rows = 'start=0&rows=100&largeTextSearchFlag=N'\n",
    "\n",
    "    url = request_url + search_text + rows\n",
    "\n",
    "    response = requests.get(url)\n",
    "    return response.json()"
   ]
  },
  {
   "cell_type": "code",
   "execution_count": 82,
   "metadata": {},
   "outputs": [
    {
     "name": "stderr",
     "output_type": "stream",
     "text": [
      "100%|██████████| 12/12 [00:29<00:00,  2.45s/it]\n"
     ]
    },
    {
     "data": {
      "text/plain": [
       "1065"
      ]
     },
     "execution_count": 82,
     "metadata": {},
     "output_type": "execute_result"
    }
   ],
   "source": [
    "csv_prep = []\n",
    "\n",
    "for term in tqdm(search_terms):\n",
    "    json = GET_Request(term)\n",
    "    \n",
    "    results = json['results']\n",
    "    \n",
    "    term_results = []\n",
    "    for r in results:\n",
    "        desired_keys = {\n",
    "            'publicationDocumentIdentifier': r['publicationDocumentIdentifier'],\n",
    "            'publicationDate': r['publicationDate'],\n",
    "            'inventionTitle': r['inventionTitle'],\n",
    "            'abstractText': r['abstractText'][0]\n",
    "            }\n",
    "        term_results.append(desired_keys)\n",
    "        \n",
    "    csv_prep.append(term_results)\n",
    "    \n",
    "csv_ready = [item for sublist in csv_prep for item in sublist]\n",
    "len(csv_ready)"
   ]
  },
  {
   "cell_type": "code",
   "execution_count": 83,
   "metadata": {
    "scrolled": true
   },
   "outputs": [],
   "source": [
    "output_file = open('USPTO_data.csv', 'w', newline='', encoding='utf-8')\n",
    "\n",
    "keys = csv_ready[0].keys()\n",
    "\n",
    "dict_writer = csv.DictWriter(output_file, keys)\n",
    "dict_writer.writeheader()\n",
    "dict_writer.writerows(csv_ready)\n",
    "output_file.close()"
   ]
  }
 ],
 "metadata": {
  "kernelspec": {
   "display_name": "Python 3 (ipykernel)",
   "language": "python",
   "name": "python3"
  },
  "language_info": {
   "codemirror_mode": {
    "name": "ipython",
    "version": 3
   },
   "file_extension": ".py",
   "mimetype": "text/x-python",
   "name": "python",
   "nbconvert_exporter": "python",
   "pygments_lexer": "ipython3",
   "version": "3.8.5"
  }
 },
 "nbformat": 4,
 "nbformat_minor": 4
}
