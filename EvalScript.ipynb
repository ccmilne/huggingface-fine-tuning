{
 "cells": [
  {
   "cell_type": "code",
   "execution_count": 1,
   "id": "36c3dbf3",
   "metadata": {},
   "outputs": [],
   "source": [
    "import string\n",
    "import re \n",
    "import csv\n",
    "import collections\n",
    "\n",
    "import numpy as np\n",
    "import pandas as pd\n",
    "from tqdm import tqdm\n",
    "from itertools import islice\n",
    "\n",
    "import nltk\n",
    "from nltk.tokenize import sent_tokenize\n",
    "\n",
    "from datasets import load_metric, load_dataset"
   ]
  },
  {
   "cell_type": "markdown",
   "id": "6edb349d",
   "metadata": {},
   "source": [
    "### Load Summaries\n",
    "\n",
    "Transformers\n",
    "- BART: sshleiferdistilbart-xsum-12-1\n",
    "- Pegasus: sshleiferdistill-pegasus-xsum-16-4\n",
    "- GPT-5: t5-small\n",
    "- BigBird: googlebigbird-pegasus-large-bigpatent\n",
    "\n",
    "Baselines\n",
    "\n",
    "- Lead 3\n",
    "\n",
    "Trained Transformers\n",
    "\n",
    "- T5\n",
    "- Pegasus\n",
    "- BART"
   ]
  },
  {
   "cell_type": "code",
   "execution_count": 2,
   "id": "c9d8495b",
   "metadata": {},
   "outputs": [],
   "source": [
    "#Transformers\n",
    "bart    = pd.read_csv('data/output_sshleiferdistilbart-xsum-12-1.csv')\n",
    "pegasus = pd.read_csv('data/output_sshleiferdistill-pegasus-xsum-16-4.csv')\n",
    "t5      = pd.read_csv('data/output_t5-small.csv')\n",
    "bird    = pd.read_csv('data/output_googlebigbird-pegasus-large-bigpatent.csv')\n",
    "\n",
    "#Baselines\n",
    "lead_three = pd.read_csv('data/lead3_patents.csv')\n",
    "\n",
    "#Trained\n",
    "t5_trained = pd.read_csv('data/output_trained_modelst5_trained.csv')\n",
    "pegasus_trained = pd.read_csv('data/output_trained_modelspegasus_trained.csv')\n",
    "bart_trained = pd.read_csv('data/output_trained_modelsbart_trained.csv')\n",
    "\n",
    "# #Adjust columns\n",
    "bart = bart[['ground_truth', 'summaries']]\n",
    "bart.columns = ['ground_truth', 'bart']\n",
    "\n",
    "pegasus = pegasus[['ground_truth', 'summaries']]\n",
    "pegasus.columns = ['ground_truth', 'pegasus']\n",
    "\n",
    "t5 = t5[['ground_truth', 'summaries']]\n",
    "t5.columns = ['ground_truth', 't5']\n",
    "\n",
    "bird = bird[['ground_truth','summaries']]\n",
    "bird.columns = ['ground_truth', 'bird']\n",
    "\n",
    "t5_trained = t5_trained[['ground_truth', 'summaries']]\n",
    "t5_trained.columns = ['ground_truth', 't5_trained']\n",
    "\n",
    "pegasus_trained = pegasus_trained[['ground_truth', 'summaries']]\n",
    "pegasus_trained.columns = ['ground_truth', 'pegasus_trained']\n",
    "\n",
    "bart_trained = bart_trained[['ground_truth', 'summaries']]\n",
    "bart_trained.columns = ['ground_truth', 'bart_trained']"
   ]
  },
  {
   "cell_type": "code",
   "execution_count": 3,
   "id": "ca6bd677",
   "metadata": {},
   "outputs": [
    {
     "name": "stdout",
     "output_type": "stream",
     "text": [
      "13948\n",
      "13948\n",
      "13948\n",
      "13948\n",
      "13948\n",
      "13948\n",
      "13948\n"
     ]
    }
   ],
   "source": [
    "bart = bart.drop_duplicates(subset='ground_truth', keep='first')\n",
    "pegasus = pegasus.drop_duplicates(subset='ground_truth', keep='first')\n",
    "t5 = t5.drop_duplicates(subset='ground_truth', keep='first')\n",
    "\n",
    "lead_three = lead_three.drop_duplicates(subset='ground_truth', keep='first')\n",
    "\n",
    "t5_trained = t5_trained.drop_duplicates(subset='ground_truth', keep='first')\n",
    "pegasus_trained = pegasus_trained.drop_duplicates(subset='ground_truth', keep='first')\n",
    "bart_trained = bart_trained.drop_duplicates(subset='ground_truth', keep='first')\n",
    "\n",
    "print(len(pegasus))\n",
    "print(len(bart))\n",
    "print(len(t5))\n",
    "print(len(lead_three))\n",
    "print(len(t5_trained))\n",
    "print(len(pegasus_trained))\n",
    "print(len(bart_trained))"
   ]
  },
  {
   "cell_type": "code",
   "execution_count": 4,
   "id": "e1e31a4c",
   "metadata": {},
   "outputs": [
    {
     "data": {
      "text/html": [
       "<div>\n",
       "<style scoped>\n",
       "    .dataframe tbody tr th:only-of-type {\n",
       "        vertical-align: middle;\n",
       "    }\n",
       "\n",
       "    .dataframe tbody tr th {\n",
       "        vertical-align: top;\n",
       "    }\n",
       "\n",
       "    .dataframe thead th {\n",
       "        text-align: right;\n",
       "    }\n",
       "</style>\n",
       "<table border=\"1\" class=\"dataframe\">\n",
       "  <thead>\n",
       "    <tr style=\"text-align: right;\">\n",
       "      <th></th>\n",
       "      <th>ground_truth</th>\n",
       "      <th>bart</th>\n",
       "      <th>pegasus</th>\n",
       "      <th>t5</th>\n",
       "      <th>lead3</th>\n",
       "      <th>bird</th>\n",
       "      <th>t5_trained</th>\n",
       "      <th>pegasus_trained</th>\n",
       "      <th>bart_trained</th>\n",
       "    </tr>\n",
       "  </thead>\n",
       "  <tbody>\n",
       "    <tr>\n",
       "      <th>0</th>\n",
       "      <td>a technique is described for completely and po...</td>\n",
       "      <td>The first picture of a home laundry dryer has...</td>\n",
       "      <td>This is an illustration of the type of machine...</td>\n",
       "      <td>fig1 is an exploded rear perspective view of a...</td>\n",
       "      <td>fig1 is an exploded rear perspective view of a...</td>\n",
       "      <td>A wiring assembly for home laundry dryers, etc...</td>\n",
       "      <td>of a home laundry dryer which can be wired by ...</td>\n",
       "      <td>a method and apparatus for wiring a machine wh...</td>\n",
       "      <td>a method and apparatus for assembling a machin...</td>\n",
       "    </tr>\n",
       "    <tr>\n",
       "      <th>1</th>\n",
       "      <td>a method and system for pseudorandom noise pha...</td>\n",
       "      <td>pn has been presented with a dtmb system for ...</td>\n",
       "      <td>A method of detecting the pn phase in the freq...</td>\n",
       "      <td>a method that estimates the pn phase in the fr...</td>\n",
       "      <td>in a presently preferred method of the present...</td>\n",
       "      <td>A method for estimating the pn phase in the fr...</td>\n",
       "      <td>a method for detecting the pn phases of the sy...</td>\n",
       "      <td>a method for estimating the pn phase in a freq...</td>\n",
       "      <td>a method for estimating a pn phase in a freque...</td>\n",
       "    </tr>\n",
       "    <tr>\n",
       "      <th>2</th>\n",
       "      <td>a semiconductor device and a method for produc...</td>\n",
       "      <td>The scope of a semiconductor device that can ...</td>\n",
       "      <td>The following is the invention of a semiconduc...</td>\n",
       "      <td>is based on the consideration that the interfa...</td>\n",
       "      <td>in the following detailed description , refere...</td>\n",
       "      <td>In a semiconductor device having a circuit car...</td>\n",
       "      <td>a semiconductor device includes a semiconducto...</td>\n",
       "      <td>an adhesion - promoting layer is provided betw...</td>\n",
       "      <td>the present invention relates to a semiconduct...</td>\n",
       "    </tr>\n",
       "    <tr>\n",
       "      <th>3</th>\n",
       "      <td>the present invention relates to a dual damasc...</td>\n",
       "      <td>The development of the dual damascene has rev...</td>\n",
       "      <td>Fig3 a to 3i are cross-sectional views showing...</td>\n",
       "      <td>u. s. pat. no. 5, 3</td>\n",
       "      <td>fig3 a to 3i are cross - sectional views showi...</td>\n",
       "      <td>A method for manufacturing the dual damascene ...</td>\n",
       "      <td>for manufacturing a dual damascene. the dual d...</td>\n",
       "      <td>a method for manufacturing a dual damascene in...</td>\n",
       "      <td>a method for manufacturing the dual damascene ...</td>\n",
       "    </tr>\n",
       "    <tr>\n",
       "      <th>4</th>\n",
       "      <td>an internet broadcast system , method and appa...</td>\n",
       "      <td>The invention of a digital platform that allo...</td>\n",
       "      <td>The following is the invention of an internet ...</td>\n",
       "      <td>in accordance with a preferred embodiment of t...</td>\n",
       "      <td>a platform and production process ( hereinafte...</td>\n",
       "      <td>A platform and production process that offers ...</td>\n",
       "      <td>a platform and production process that offers ...</td>\n",
       "      <td>a platform and method for providing a rich, vi...</td>\n",
       "      <td>a platform and method for producing a multi - ...</td>\n",
       "    </tr>\n",
       "    <tr>\n",
       "      <th>...</th>\n",
       "      <td>...</td>\n",
       "      <td>...</td>\n",
       "      <td>...</td>\n",
       "      <td>...</td>\n",
       "      <td>...</td>\n",
       "      <td>...</td>\n",
       "      <td>...</td>\n",
       "      <td>...</td>\n",
       "      <td>...</td>\n",
       "    </tr>\n",
       "    <tr>\n",
       "      <th>14274</th>\n",
       "      <td>a data reading apparatus , includes an apparat...</td>\n",
       "      <td>A device that uses a memory card that can be ...</td>\n",
       "      <td>A data reading apparatus is used to read a rec...</td>\n",
       "      <td>of the present invention, as a data reading ap...</td>\n",
       "      <td>hereinafter , an embodiment of the present inv...</td>\n",
       "      <td>A data reading apparatus includes a specific i...</td>\n",
       "      <td>a data reading apparatus used to read a record...</td>\n",
       "      <td>the present invention relates to a data readin...</td>\n",
       "      <td>a data reading apparatus includes a reading me...</td>\n",
       "    </tr>\n",
       "    <tr>\n",
       "      <th>14275</th>\n",
       "      <td>an integrated circuit for supplying power incl...</td>\n",
       "      <td>The invention of a communication apparatus, w...</td>\n",
       "      <td>The following is the invention of a power supp...</td>\n",
       "      <td>, embodiments of the present invention will be...</td>\n",
       "      <td>in the following , embodiments of the present ...</td>\n",
       "      <td>A power supply ic according to the present inv...</td>\n",
       "      <td>a communication apparatus includes a power sup...</td>\n",
       "      <td>a power supply circuit unit having a plurality...</td>\n",
       "      <td>a power supply ic includes : a power supply ci...</td>\n",
       "    </tr>\n",
       "    <tr>\n",
       "      <th>14276</th>\n",
       "      <td>a method and apparatus for allowing the user o...</td>\n",
       "      <td>The detailed details of a power generator tha...</td>\n",
       "      <td>The disclosure of a power generation system 10...</td>\n",
       "      <td>is now directed to the drawings, where like or...</td>\n",
       "      <td>reference is now directed to the drawings , wh...</td>\n",
       "      <td>A power generation system includes a power gen...</td>\n",
       "      <td>a power generation system includes a power sup...</td>\n",
       "      <td>a power generation system includes a power gen...</td>\n",
       "      <td>a power generation system includes a power gen...</td>\n",
       "    </tr>\n",
       "    <tr>\n",
       "      <th>14277</th>\n",
       "      <td>a signal processing circuit outputs a digital ...</td>\n",
       "      <td>A cmos ( cmos) in order to read images from 1...</td>\n",
       "      <td>a cmos image circuit according to an embodimen...</td>\n",
       "      <td>is described below with reference to fig1. a s...</td>\n",
       "      <td>a cmos image circuit according to an embodimen...</td>\n",
       "      <td>A sensor array includes a plurality of cells a...</td>\n",
       "      <td>a cmos image circuit includes a plurality of c...</td>\n",
       "      <td>a cmos image circuit includes a sensor array h...</td>\n",
       "      <td>a cmos image circuit includes a sensor array h...</td>\n",
       "    </tr>\n",
       "    <tr>\n",
       "      <th>14278</th>\n",
       "      <td>a proximal cable - less communication system e...</td>\n",
       "      <td>The invention of a communication system which...</td>\n",
       "      <td>The following is the invention of a communicat...</td>\n",
       "      <td>combines the incoming signal from antenna 13 a...</td>\n",
       "      <td>a cable - less communication system which comp...</td>\n",
       "      <td>A cable - less communication system which comp...</td>\n",
       "      <td>a cable - less communication system comprising...</td>\n",
       "      <td>a cable - less communication system comprises ...</td>\n",
       "      <td>a cable - less communication system comprises ...</td>\n",
       "    </tr>\n",
       "  </tbody>\n",
       "</table>\n",
       "<p>14279 rows × 9 columns</p>\n",
       "</div>"
      ],
      "text/plain": [
       "                                            ground_truth  \\\n",
       "0      a technique is described for completely and po...   \n",
       "1      a method and system for pseudorandom noise pha...   \n",
       "2      a semiconductor device and a method for produc...   \n",
       "3      the present invention relates to a dual damasc...   \n",
       "4      an internet broadcast system , method and appa...   \n",
       "...                                                  ...   \n",
       "14274  a data reading apparatus , includes an apparat...   \n",
       "14275  an integrated circuit for supplying power incl...   \n",
       "14276  a method and apparatus for allowing the user o...   \n",
       "14277  a signal processing circuit outputs a digital ...   \n",
       "14278  a proximal cable - less communication system e...   \n",
       "\n",
       "                                                    bart  \\\n",
       "0       The first picture of a home laundry dryer has...   \n",
       "1       pn has been presented with a dtmb system for ...   \n",
       "2       The scope of a semiconductor device that can ...   \n",
       "3       The development of the dual damascene has rev...   \n",
       "4       The invention of a digital platform that allo...   \n",
       "...                                                  ...   \n",
       "14274   A device that uses a memory card that can be ...   \n",
       "14275   The invention of a communication apparatus, w...   \n",
       "14276   The detailed details of a power generator tha...   \n",
       "14277   A cmos ( cmos) in order to read images from 1...   \n",
       "14278   The invention of a communication system which...   \n",
       "\n",
       "                                                 pegasus  \\\n",
       "0      This is an illustration of the type of machine...   \n",
       "1      A method of detecting the pn phase in the freq...   \n",
       "2      The following is the invention of a semiconduc...   \n",
       "3      Fig3 a to 3i are cross-sectional views showing...   \n",
       "4      The following is the invention of an internet ...   \n",
       "...                                                  ...   \n",
       "14274  A data reading apparatus is used to read a rec...   \n",
       "14275  The following is the invention of a power supp...   \n",
       "14276  The disclosure of a power generation system 10...   \n",
       "14277  a cmos image circuit according to an embodimen...   \n",
       "14278  The following is the invention of a communicat...   \n",
       "\n",
       "                                                      t5  \\\n",
       "0      fig1 is an exploded rear perspective view of a...   \n",
       "1      a method that estimates the pn phase in the fr...   \n",
       "2      is based on the consideration that the interfa...   \n",
       "3                                    u. s. pat. no. 5, 3   \n",
       "4      in accordance with a preferred embodiment of t...   \n",
       "...                                                  ...   \n",
       "14274  of the present invention, as a data reading ap...   \n",
       "14275  , embodiments of the present invention will be...   \n",
       "14276  is now directed to the drawings, where like or...   \n",
       "14277  is described below with reference to fig1. a s...   \n",
       "14278  combines the incoming signal from antenna 13 a...   \n",
       "\n",
       "                                                   lead3  \\\n",
       "0      fig1 is an exploded rear perspective view of a...   \n",
       "1      in a presently preferred method of the present...   \n",
       "2      in the following detailed description , refere...   \n",
       "3      fig3 a to 3i are cross - sectional views showi...   \n",
       "4      a platform and production process ( hereinafte...   \n",
       "...                                                  ...   \n",
       "14274  hereinafter , an embodiment of the present inv...   \n",
       "14275  in the following , embodiments of the present ...   \n",
       "14276  reference is now directed to the drawings , wh...   \n",
       "14277  a cmos image circuit according to an embodimen...   \n",
       "14278  a cable - less communication system which comp...   \n",
       "\n",
       "                                                    bird  \\\n",
       "0      A wiring assembly for home laundry dryers, etc...   \n",
       "1      A method for estimating the pn phase in the fr...   \n",
       "2      In a semiconductor device having a circuit car...   \n",
       "3      A method for manufacturing the dual damascene ...   \n",
       "4      A platform and production process that offers ...   \n",
       "...                                                  ...   \n",
       "14274  A data reading apparatus includes a specific i...   \n",
       "14275  A power supply ic according to the present inv...   \n",
       "14276  A power generation system includes a power gen...   \n",
       "14277  A sensor array includes a plurality of cells a...   \n",
       "14278  A cable - less communication system which comp...   \n",
       "\n",
       "                                              t5_trained  \\\n",
       "0      of a home laundry dryer which can be wired by ...   \n",
       "1      a method for detecting the pn phases of the sy...   \n",
       "2      a semiconductor device includes a semiconducto...   \n",
       "3      for manufacturing a dual damascene. the dual d...   \n",
       "4      a platform and production process that offers ...   \n",
       "...                                                  ...   \n",
       "14274  a data reading apparatus used to read a record...   \n",
       "14275  a communication apparatus includes a power sup...   \n",
       "14276  a power generation system includes a power sup...   \n",
       "14277  a cmos image circuit includes a plurality of c...   \n",
       "14278  a cable - less communication system comprising...   \n",
       "\n",
       "                                         pegasus_trained  \\\n",
       "0      a method and apparatus for wiring a machine wh...   \n",
       "1      a method for estimating the pn phase in a freq...   \n",
       "2      an adhesion - promoting layer is provided betw...   \n",
       "3      a method for manufacturing a dual damascene in...   \n",
       "4      a platform and method for providing a rich, vi...   \n",
       "...                                                  ...   \n",
       "14274  the present invention relates to a data readin...   \n",
       "14275  a power supply circuit unit having a plurality...   \n",
       "14276  a power generation system includes a power gen...   \n",
       "14277  a cmos image circuit includes a sensor array h...   \n",
       "14278  a cable - less communication system comprises ...   \n",
       "\n",
       "                                            bart_trained  \n",
       "0      a method and apparatus for assembling a machin...  \n",
       "1      a method for estimating a pn phase in a freque...  \n",
       "2      the present invention relates to a semiconduct...  \n",
       "3      a method for manufacturing the dual damascene ...  \n",
       "4      a platform and method for producing a multi - ...  \n",
       "...                                                  ...  \n",
       "14274  a data reading apparatus includes a reading me...  \n",
       "14275  a power supply ic includes : a power supply ci...  \n",
       "14276  a power generation system includes a power gen...  \n",
       "14277  a cmos image circuit includes a sensor array h...  \n",
       "14278  a cable - less communication system comprises ...  \n",
       "\n",
       "[14279 rows x 9 columns]"
      ]
     },
     "execution_count": 4,
     "metadata": {},
     "output_type": "execute_result"
    }
   ],
   "source": [
    "temp  = bart.merge(pegasus, how='inner', on='ground_truth')\n",
    "temp2 = temp.merge(t5, how='inner', on='ground_truth')\n",
    "temp3 = temp2.merge(lead_three, how='inner', on='ground_truth')\n",
    "temp4 = temp3.merge(bird, how='inner', on='ground_truth')\n",
    "temp5 = temp4.merge(t5_trained, how='inner', on='ground_truth')\n",
    "temp6 = temp5.merge(pegasus_trained, how='inner', on='ground_truth')\n",
    "merged = temp6.merge(bart_trained, how='inner', on='ground_truth')\n",
    "\n",
    "merged"
   ]
  },
  {
   "cell_type": "code",
   "execution_count": 5,
   "id": "66447e5b",
   "metadata": {},
   "outputs": [
    {
     "data": {
      "text/plain": [
       "ground_truth       False\n",
       "bart               False\n",
       "pegasus            False\n",
       "t5                 False\n",
       "lead3              False\n",
       "bird               False\n",
       "t5_trained         False\n",
       "pegasus_trained    False\n",
       "bart_trained       False\n",
       "dtype: bool"
      ]
     },
     "execution_count": 5,
     "metadata": {},
     "output_type": "execute_result"
    }
   ],
   "source": [
    "merged.isnull().any()"
   ]
  },
  {
   "cell_type": "code",
   "execution_count": 6,
   "id": "c53ef85c",
   "metadata": {},
   "outputs": [
    {
     "data": {
      "text/plain": [
       "ground_truth       0\n",
       "bart               0\n",
       "pegasus            0\n",
       "t5                 0\n",
       "lead3              0\n",
       "bird               0\n",
       "t5_trained         0\n",
       "pegasus_trained    0\n",
       "bart_trained       0\n",
       "dtype: int64"
      ]
     },
     "execution_count": 6,
     "metadata": {},
     "output_type": "execute_result"
    }
   ],
   "source": [
    "merged.isnull().sum()"
   ]
  },
  {
   "cell_type": "markdown",
   "id": "a1651d61",
   "metadata": {},
   "source": [
    "### Cleaning\n",
    "\n",
    "Cleaning function replaces white spaces and newlines"
   ]
  },
  {
   "cell_type": "code",
   "execution_count": 5,
   "id": "5f08192e",
   "metadata": {},
   "outputs": [],
   "source": [
    "def clean(s):\n",
    "    a = s.translate(str.maketrans(' ', ' ', string.punctuation))\n",
    "    return re.sub('\\s+',' ', a).replace('\\n', '').strip()"
   ]
  },
  {
   "cell_type": "code",
   "execution_count": 6,
   "id": "7950cacf",
   "metadata": {},
   "outputs": [],
   "source": [
    "for c in list(merged.columns):\n",
    "    merged[c] = [clean(series) for series in list(merged[c])]"
   ]
  },
  {
   "cell_type": "code",
   "execution_count": 7,
   "id": "3f0dd8fc",
   "metadata": {},
   "outputs": [],
   "source": [
    "merged_dict = merged.to_dict('index')"
   ]
  },
  {
   "cell_type": "markdown",
   "id": "859f72f2",
   "metadata": {},
   "source": [
    "### Example\n",
    "\n",
    "Below is a series of summaries for a given article"
   ]
  },
  {
   "cell_type": "code",
   "execution_count": 11,
   "id": "b0f53d9d",
   "metadata": {
    "scrolled": true
   },
   "outputs": [
    {
     "data": {
      "text/plain": [
       "{'ground_truth': 'an internet broadcast system method and apparatus provides a presentation tool that offers program content to viewers in a rich interactive and exciting way while still offering the benefits of cost effectiveness convenience and which meets or exceeds the experience of live in person programming at least two synchronized images are presented in multiple windows and an editable image selected from one of the at least two synchronized images wherein the other of the at least two synchronized image adjust to remain in sync with the edited image a production panel includes an administrative section and a viewer section the administrative section includes set of production tools which allow an administrator to create and modify programming that a viewer observes and engages with through the viewer section via a remote digital viewing device information flows between the production panel and viewing devices via the cloud based software',\n",
       " 'bart': 'The invention of a digital platform that allows people to participate in a live or on demand for internet broadcasts and ondemand services is to be discussed',\n",
       " 'pegasus': 'The following is the invention of an internet webcasting service that offers a rich interactive program experience for internet broadcast attendees',\n",
       " 't5': 'in accordance with a preferred embodiment of the present invention the platform provides an',\n",
       " 'lead3': 'a platform and production process hereinafter the “ platform ” that offers a rich virtual experience for internet broadcast attendees is described below in accordance with a preferred embodiment of the present invention the platform provides an internet broadcast that is a multi layered interactive program experience capable of offering the excitement and level of engagement that participants experience when in person and on site for a live presentation as will be discussed more fully below the platform of the present invention provides a broadcast that goes beyond what audience members may experience in person and on site of the presentation',\n",
       " 'bird': 'A platform and production process that offers a rich virtual experience for internet broadcast attendees is described herein',\n",
       " 't5_trained': 'a platform and production process that offers a rich virtual experience for internet broadcast attendees',\n",
       " 'pegasus_trained': 'a platform and method for providing a rich virtual experience for internet broadcast attendees is described the platform includes a dual screen interactive webcasting service a dual screen interactive webcasting service and a dual screen interactive webcasting service the dual screen interactive webcasting service',\n",
       " 'bart_trained': 'a platform and method for producing a multi layered interactive presentation is provided the platform includes a plurality of live camera sources including at least one live camera source and or prerecorded video the present invention includes a platform for communicating with a presenter an administrator or other viewers and'}"
      ]
     },
     "execution_count": 11,
     "metadata": {},
     "output_type": "execute_result"
    }
   ],
   "source": [
    "merged_dict[4]"
   ]
  },
  {
   "cell_type": "markdown",
   "id": "f8063962",
   "metadata": {},
   "source": [
    "### ROUGE Batching"
   ]
  },
  {
   "cell_type": "code",
   "execution_count": 11,
   "id": "c4c17d69",
   "metadata": {},
   "outputs": [
    {
     "name": "stdout",
     "output_type": "stream",
     "text": [
      "Number of batches: 1428\n"
     ]
    }
   ],
   "source": [
    "def chunks(dictionary, batch_size=10):\n",
    "    \"\"\"Yield successive batch-sized chunks from dictionary.\"\"\"\n",
    "    it = iter(dictionary)   \n",
    "    for i in range(0, len(dictionary), batch_size):\n",
    "        yield {k: dictionary[k] for k in islice(it, batch_size)}\n",
    "    \n",
    "chunk_list = [c for c in chunks(merged_dict)]\n",
    "print(f\"Number of batches: {len(chunk_list)}\")"
   ]
  },
  {
   "cell_type": "code",
   "execution_count": 12,
   "id": "b1207e34",
   "metadata": {},
   "outputs": [
    {
     "name": "stderr",
     "output_type": "stream",
     "text": [
      "100%|██████████| 1428/1428 [00:00<00:00, 2523.00it/s]\n",
      "100%|██████████| 1428/1428 [00:00<00:00, 2550.78it/s]\n",
      "100%|██████████| 1428/1428 [00:00<00:00, 2582.77it/s]\n",
      "100%|██████████| 1428/1428 [00:00<00:00, 2505.70it/s]\n",
      "100%|██████████| 1428/1428 [00:00<00:00, 2513.38it/s]\n",
      "100%|██████████| 1428/1428 [00:00<00:00, 2581.95it/s]\n",
      "100%|██████████| 1428/1428 [00:00<00:00, 2543.24it/s]\n",
      "100%|██████████| 1428/1428 [00:00<00:00, 2545.19it/s]\n"
     ]
    }
   ],
   "source": [
    "results = {}\n",
    "\n",
    "rouge_metric = load_metric(\"rouge\")\n",
    "\n",
    "#ROUGE Metric Batching\n",
    "for summarizer in list(merged.columns)[1:]:\n",
    "    for chunk in tqdm(chunk_list):\n",
    "        refs  = [i['ground_truth'] for i in list(chunk.values())]\n",
    "        preds = [i[summarizer] for i in list(chunk.values())]\n",
    "        rouge_metric.add_batch(predictions=preds, references=refs)\n",
    "\n",
    "    scores = rouge_metric.compute()\n",
    "    results[summarizer] = [\n",
    "        np.round(scores['rouge1'].mid.fmeasure * 100, 1), \n",
    "        np.round(scores['rougeL'].mid.fmeasure * 100, 1)]"
   ]
  },
  {
   "cell_type": "markdown",
   "id": "6c255769",
   "metadata": {},
   "source": [
    "### BLEU Batching"
   ]
  },
  {
   "cell_type": "code",
   "execution_count": 13,
   "id": "06f38577",
   "metadata": {},
   "outputs": [
    {
     "name": "stderr",
     "output_type": "stream",
     "text": [
      "100%|██████████| 1428/1428 [00:04<00:00, 293.32it/s]\n",
      "100%|██████████| 1428/1428 [00:05<00:00, 275.97it/s]\n",
      "100%|██████████| 1428/1428 [00:04<00:00, 322.71it/s]\n",
      "100%|██████████| 1428/1428 [00:06<00:00, 224.33it/s]\n",
      "100%|██████████| 1428/1428 [00:05<00:00, 239.88it/s]\n",
      "100%|██████████| 1428/1428 [00:04<00:00, 319.19it/s]\n",
      "100%|██████████| 1428/1428 [00:05<00:00, 259.74it/s]\n",
      "100%|██████████| 1428/1428 [00:05<00:00, 258.67it/s]\n"
     ]
    }
   ],
   "source": [
    "bleu_metric  = load_metric('bleu')\n",
    "\n",
    "#BLEU Metric Batching\n",
    "for summarizer in list(merged.columns)[1:]:\n",
    "\n",
    "    for chunk in tqdm(chunk_list):\n",
    "        refs  = [i['ground_truth'].split() for i in list(chunk.values())]        \n",
    "        refs  = list(map(lambda item: [item], refs))\n",
    "        preds = [i[summarizer].split() for i in list(chunk.values())]\n",
    "\n",
    "        bleu_metric.add_batch(predictions=preds, references=refs)\n",
    "\n",
    "    bleus = bleu_metric.compute()   \n",
    "    results[summarizer].extend([\n",
    "        np.round(bleus['bleu'] * 100, 3),\n",
    "#         np.round(bleus['precisions'][0] * 100, 1),\n",
    "#         np.round(bleus['brevity_penalty'], 3),\n",
    "        np.round(bleus['length_ratio'], 3)])"
   ]
  },
  {
   "cell_type": "markdown",
   "id": "fac30c99",
   "metadata": {},
   "source": [
    "### Perplexity"
   ]
  },
  {
   "cell_type": "code",
   "execution_count": 14,
   "id": "78ef342c",
   "metadata": {},
   "outputs": [],
   "source": [
    "### Unigram and Perplexity\n",
    "def unigram(tokenized_corpus):\n",
    "    model = collections.defaultdict(lambda: 0.01)\n",
    "    for f in tqdm(tokenized_corpus):\n",
    "        try: model[f] += 1\n",
    "        except KeyError: \n",
    "            model[f] = 1\n",
    "            continue\n",
    "    N = float(sum(model.values()))\n",
    "    for word in model:\n",
    "        model[word] = model[word]/N\n",
    "    return model\n",
    "\n",
    "def perplexity(string, model):\n",
    "    tokens = string.split()\n",
    "    perplexity = 1\n",
    "    N = 0\n",
    "    for w in tokens:\n",
    "        N += 1\n",
    "        perplexity = perplexity * (1 / model[w])\n",
    "    perplexity = pow(perplexity, 1 / float(N))\n",
    "    return perplexity"
   ]
  },
  {
   "cell_type": "code",
   "execution_count": 15,
   "id": "3176c8e6",
   "metadata": {},
   "outputs": [
    {
     "name": "stderr",
     "output_type": "stream",
     "text": [
      "Reusing dataset big_patent (cached_data/big_patent/h/1.0.0/bdefa7c0b39fba8bba1c6331b70b738e30d63c8ad4567f983ce315a5fef6131c)\n"
     ]
    },
    {
     "data": {
      "application/vnd.jupyter.widget-view+json": {
       "model_id": "cc124f81735340ba9b752bb8a9393897",
       "version_major": 2,
       "version_minor": 0
      },
      "text/plain": [
       "  0%|          | 0/3 [00:00<?, ?it/s]"
      ]
     },
     "metadata": {},
     "output_type": "display_data"
    }
   ],
   "source": [
    "DATA_CACHE_PATH = 'cached_data'\n",
    "\n",
    "### EDIT THIS LINE FOR YOUR DATASET\n",
    "dataset = load_dataset('big_patent', 'h', cache_dir=DATA_CACHE_PATH)"
   ]
  },
  {
   "cell_type": "code",
   "execution_count": 16,
   "id": "63c4b942",
   "metadata": {
    "scrolled": true
   },
   "outputs": [
    {
     "name": "stderr",
     "output_type": "stream",
     "text": [
      "100%|██████████| 542596/542596 [09:33<00:00, 946.90it/s]  \n"
     ]
    }
   ],
   "source": [
    "#We need all of the words from both articles and their abstracts to form a vocabulary\n",
    "#for the unigram model\n",
    "\n",
    "#You may need to adjust the column names (e.g. description)\n",
    "train_texts = list(dataset['train']['description']) + list(dataset['train']['abstract'])\n",
    "test_texts = list(dataset['test']['description']) + list(dataset['test']['abstract'])\n",
    "all_texts = train_texts + test_texts\n",
    "cleaned = [clean(s) for s in tqdm(all_texts)]\n",
    "\n",
    "token_list = [s.split() for s in tqdm(cleaned)]\n",
    "flattened = [a for sublist in token_list for a in sublist]"
   ]
  },
  {
   "cell_type": "code",
   "execution_count": 17,
   "id": "a158970b",
   "metadata": {},
   "outputs": [
    {
     "name": "stderr",
     "output_type": "stream",
     "text": [
      "100%|██████████| 880589309/880589309 [04:51<00:00, 3026048.12it/s]\n"
     ]
    }
   ],
   "source": [
    "unigram_model = unigram(flattened)"
   ]
  },
  {
   "cell_type": "code",
   "execution_count": 18,
   "id": "54fc7be0",
   "metadata": {},
   "outputs": [],
   "source": [
    "perplexity_results = {}\n",
    "\n",
    "for summarizer in list(merged.columns)[1:]:\n",
    "    column = list(merged[summarizer])\n",
    "    perplexity_results[summarizer] = [perplexity(i, unigram_model) for i in column]"
   ]
  },
  {
   "cell_type": "code",
   "execution_count": 19,
   "id": "3f499878",
   "metadata": {},
   "outputs": [
    {
     "name": "stdout",
     "output_type": "stream",
     "text": [
      "458.4523960494196\n",
      "691.161122763715\n",
      "3674.3997214110864\n",
      "inf\n",
      "inf\n",
      "1259.9834948945834\n",
      "1248.4044247277918\n",
      "642.7847531943219\n",
      "\n",
      "390.9595093362846\n",
      "527.793767792649\n",
      "680.4037603280391\n",
      "863.2131693695587\n",
      "779.2523326124232\n",
      "816.2375853446887\n",
      "740.4797159366858\n",
      "562.4215914620626\n"
     ]
    }
   ],
   "source": [
    "print(np.mean(perplexity_results['bart']))\n",
    "print(np.mean(perplexity_results['pegasus']))\n",
    "print(np.mean(perplexity_results['t5']))\n",
    "print(np.mean(perplexity_results['bird']))\n",
    "print(np.mean(perplexity_results['lead3']))\n",
    "print(np.mean(perplexity_results['t5_trained']))\n",
    "print(np.mean(perplexity_results['pegasus_trained']))\n",
    "print(np.mean(perplexity_results['bart_trained']))\n",
    "\n",
    "print(\"\")\n",
    "\n",
    "print(np.median(perplexity_results['bart']))\n",
    "print(np.median(perplexity_results['pegasus']))\n",
    "print(np.median(perplexity_results['t5']))\n",
    "print(np.median(perplexity_results['bird']))\n",
    "print(np.median(perplexity_results['lead3']))\n",
    "print(np.median(perplexity_results['t5_trained']))\n",
    "print(np.median(perplexity_results['pegasus_trained']))\n",
    "print(np.median(perplexity_results['bart_trained']))"
   ]
  },
  {
   "cell_type": "code",
   "execution_count": 20,
   "id": "eadb7f28",
   "metadata": {},
   "outputs": [],
   "source": [
    "for k, v in perplexity_results.items():\n",
    "    results[k].append(int(np.round(np.median(perplexity_results[k]))))"
   ]
  },
  {
   "cell_type": "code",
   "execution_count": 21,
   "id": "65a8c407",
   "metadata": {},
   "outputs": [
    {
     "data": {
      "text/html": [
       "<div>\n",
       "<style scoped>\n",
       "    .dataframe tbody tr th:only-of-type {\n",
       "        vertical-align: middle;\n",
       "    }\n",
       "\n",
       "    .dataframe tbody tr th {\n",
       "        vertical-align: top;\n",
       "    }\n",
       "\n",
       "    .dataframe thead th {\n",
       "        text-align: right;\n",
       "    }\n",
       "</style>\n",
       "<table border=\"1\" class=\"dataframe\">\n",
       "  <thead>\n",
       "    <tr style=\"text-align: right;\">\n",
       "      <th></th>\n",
       "      <th>rouge1</th>\n",
       "      <th>rougeL</th>\n",
       "      <th>bleu</th>\n",
       "      <th>length_ratio</th>\n",
       "      <th>perplexity</th>\n",
       "    </tr>\n",
       "  </thead>\n",
       "  <tbody>\n",
       "    <tr>\n",
       "      <th>bart</th>\n",
       "      <td>20.2</td>\n",
       "      <td>14.6</td>\n",
       "      <td>0.267</td>\n",
       "      <td>0.252</td>\n",
       "      <td>391.0</td>\n",
       "    </tr>\n",
       "    <tr>\n",
       "      <th>pegasus</th>\n",
       "      <td>24.1</td>\n",
       "      <td>16.7</td>\n",
       "      <td>1.284</td>\n",
       "      <td>0.351</td>\n",
       "      <td>528.0</td>\n",
       "    </tr>\n",
       "    <tr>\n",
       "      <th>t5</th>\n",
       "      <td>10.0</td>\n",
       "      <td>8.3</td>\n",
       "      <td>0.003</td>\n",
       "      <td>0.112</td>\n",
       "      <td>680.0</td>\n",
       "    </tr>\n",
       "    <tr>\n",
       "      <th>lead3</th>\n",
       "      <td>28.6</td>\n",
       "      <td>18.0</td>\n",
       "      <td>4.616</td>\n",
       "      <td>0.728</td>\n",
       "      <td>779.0</td>\n",
       "    </tr>\n",
       "    <tr>\n",
       "      <th>bird</th>\n",
       "      <td>31.8</td>\n",
       "      <td>22.2</td>\n",
       "      <td>5.142</td>\n",
       "      <td>0.595</td>\n",
       "      <td>863.0</td>\n",
       "    </tr>\n",
       "    <tr>\n",
       "      <th>t5_trained</th>\n",
       "      <td>13.2</td>\n",
       "      <td>11.2</td>\n",
       "      <td>0.006</td>\n",
       "      <td>0.110</td>\n",
       "      <td>816.0</td>\n",
       "    </tr>\n",
       "    <tr>\n",
       "      <th>pegasus_trained</th>\n",
       "      <td>28.5</td>\n",
       "      <td>21.6</td>\n",
       "      <td>3.297</td>\n",
       "      <td>0.448</td>\n",
       "      <td>740.0</td>\n",
       "    </tr>\n",
       "    <tr>\n",
       "      <th>bart_trained</th>\n",
       "      <td>35.1</td>\n",
       "      <td>24.0</td>\n",
       "      <td>4.405</td>\n",
       "      <td>0.459</td>\n",
       "      <td>562.0</td>\n",
       "    </tr>\n",
       "  </tbody>\n",
       "</table>\n",
       "</div>"
      ],
      "text/plain": [
       "                 rouge1  rougeL   bleu  length_ratio  perplexity\n",
       "bart               20.2    14.6  0.267         0.252       391.0\n",
       "pegasus            24.1    16.7  1.284         0.351       528.0\n",
       "t5                 10.0     8.3  0.003         0.112       680.0\n",
       "lead3              28.6    18.0  4.616         0.728       779.0\n",
       "bird               31.8    22.2  5.142         0.595       863.0\n",
       "t5_trained         13.2    11.2  0.006         0.110       816.0\n",
       "pegasus_trained    28.5    21.6  3.297         0.448       740.0\n",
       "bart_trained       35.1    24.0  4.405         0.459       562.0"
      ]
     },
     "execution_count": 21,
     "metadata": {},
     "output_type": "execute_result"
    }
   ],
   "source": [
    "labels = [\n",
    "    'rouge1', 'rougeL',\n",
    "    'bleu', \n",
    "#     'precisions', 'brevity_penalty', \n",
    "    'length_ratio',\n",
    "    'perplexity'\n",
    "]\n",
    "\n",
    "df = pd.DataFrame.from_dict(results)\n",
    "df = df.T\n",
    "df.columns = labels\n",
    "df"
   ]
  }
 ],
 "metadata": {
  "kernelspec": {
   "display_name": "Python 3",
   "language": "python",
   "name": "python3"
  },
  "language_info": {
   "codemirror_mode": {
    "name": "ipython",
    "version": 3
   },
   "file_extension": ".py",
   "mimetype": "text/x-python",
   "name": "python",
   "nbconvert_exporter": "python",
   "pygments_lexer": "ipython3",
   "version": "3.8.8"
  }
 },
 "nbformat": 4,
 "nbformat_minor": 5
}
