{
 "cells": [
  {
   "cell_type": "code",
   "execution_count": 1,
   "id": "822fc764",
   "metadata": {
    "colab": {
     "base_uri": "https://localhost:8080/"
    },
    "id": "89ceb943",
    "outputId": "2929cd2f-b02f-4d9b-87e6-98194c5e10e5"
   },
   "outputs": [],
   "source": [
    "# !pip3 install transformers datasets==2.0.0 sentencepiece rouge_score sacrebleu "
   ]
  },
  {
   "cell_type": "code",
   "execution_count": 2,
   "id": "0177a96a",
   "metadata": {
    "colab": {
     "base_uri": "https://localhost:8080/"
    },
    "id": "0b5bd82b",
    "outputId": "db1792a9-5cda-41be-b4b1-f9de62af7c3a"
   },
   "outputs": [],
   "source": [
    "# !pip3 install torch==1.11.0+cu113 torchvision==0.12.0+cu113 torchaudio==0.11.0+cu113 -f https://download.pytorch.org/whl/cu113/torch_stable.html"
   ]
  },
  {
   "cell_type": "code",
   "execution_count": 1,
   "id": "89dbb3c3",
   "metadata": {
    "id": "HvwNdENEfXFs"
   },
   "outputs": [],
   "source": [
    "DATA_CACHE_PATH = './cached_data'\n",
    "MODEL_CACHE_PATH = './cached_models'\n",
    "PROCESSED_PATH = './processed'"
   ]
  },
  {
   "cell_type": "code",
   "execution_count": 2,
   "id": "b506e04e",
   "metadata": {
    "colab": {
     "base_uri": "https://localhost:8080/"
    },
    "id": "21ed8bb8",
    "outputId": "5c54f61a-8f95-457b-b47b-cf0064307225"
   },
   "outputs": [
    {
     "name": "stdout",
     "output_type": "stream",
     "text": [
      "Using device: cuda\n"
     ]
    }
   ],
   "source": [
    "import torch\n",
    "from transformers import AutoModelForSeq2SeqLM, AutoTokenizer\n",
    "\n",
    "import datasets\n",
    "from datasets import load_dataset, load_metric, load_from_disk\n",
    "import sentencepiece\n",
    "\n",
    "from torch.utils.data import Dataset\n",
    "\n",
    "from tqdm.auto import tqdm\n",
    "from tqdm import tqdm\n",
    "\n",
    "import pandas as pd\n",
    "import numpy as np\n",
    "\n",
    "device = 'cuda' if torch.cuda.is_available() else 'cpu'\n",
    "print(f\"Using device: {device}\")"
   ]
  },
  {
   "cell_type": "markdown",
   "id": "de2bfd6d",
   "metadata": {
    "id": "21c0f5f6"
   },
   "source": [
    "## Tokenize Data\n",
    "- To improve runtime, pre-tokenize the data and write it disk\n",
    "- Only one batch is used for proper padding\n",
    "- Since each model requires a unique tokenizer, each dataset and model needs its own file (3 datasets x 3 models = 9 files)"
   ]
  },
  {
   "cell_type": "code",
   "execution_count": 2,
   "id": "51b1d607",
   "metadata": {
    "id": "b5b4d4cc"
   },
   "outputs": [],
   "source": [
    "def tokenize(batch, tokenizer):\n",
    "    return tokenizer(\n",
    "        batch[\"description\"], \n",
    "        max_length=512, \n",
    "        padding=\"max_length\", \n",
    "        truncation=True)"
   ]
  },
  {
   "cell_type": "code",
   "execution_count": 3,
   "id": "131dc34a",
   "metadata": {
    "id": "04d7a8ca"
   },
   "outputs": [],
   "source": [
    "def write_tokenize(ckpt, ds_args):\n",
    "    nickname = ckpt.replace(\"/\", \"-\").replace(\"_\", \"-\")\n",
    "    ds = load_dataset(**ds_args)\n",
    "    \n",
    "    #load tokenizer\n",
    "    tokenizer = AutoTokenizer.from_pretrained(\n",
    "        ckpt, cache_dir=MODEL_CACHE_PATH)\n",
    "    \n",
    "    #tokenize data\n",
    "    #alternative is to tokenize batches and use data collator\n",
    "    df_encoded = ds.map(tokenize,\n",
    "                        fn_kwargs={'tokenizer': tokenizer},\n",
    "                        batched=True, \n",
    "                        batch_size=None, #Needs to pad everything in one batch \n",
    "                        load_from_cache_file=False)\n",
    "    \n",
    "    df_encoded.add_column('ground_truth', list(ds['abstract']))\n",
    "    \n",
    "    #write df to disk\n",
    "    df_encoded.save_to_disk(f\"./processed/{nickname}/{ds_args['path']}\")\n",
    "    \n",
    "    return None"
   ]
  },
  {
   "cell_type": "code",
   "execution_count": 3,
   "id": "ab031aee",
   "metadata": {},
   "outputs": [],
   "source": [
    "ckpts = [\n",
    "#     \"google/bigbird-pegasus-large-bigpatent\",\n",
    "#     \"sshleifer/distill-pegasus-xsum-16-4\",\n",
    "#     \"sshleifer/distilbart-xsum-12-1\",\n",
    "#     \"t5-small\"\n",
    "#     \"trained_models/t5_trained\"\n",
    "#     \"trained_models/pegasus_trained\"\n",
    "    \"trained_models/bart_trained\"\n",
    "]\n",
    "\n",
    "PATENT_ARGS = {\n",
    "    'path': 'big_patent',\n",
    "    'name': \"h\",\n",
    "    'split': 'test' #test\n",
    "}"
   ]
  },
  {
   "cell_type": "code",
   "execution_count": 7,
   "id": "5e86397e",
   "metadata": {
    "id": "f6e02fcb"
   },
   "outputs": [
    {
     "name": "stderr",
     "output_type": "stream",
     "text": [
      "Reusing dataset big_patent (/home/ccmilne/.cache/huggingface/datasets/big_patent/h/1.0.0/bdefa7c0b39fba8bba1c6331b70b738e30d63c8ad4567f983ce315a5fef6131c)\n"
     ]
    },
    {
     "data": {
      "application/vnd.jupyter.widget-view+json": {
       "model_id": "59c94fb13b014f569d37a2cc0626b21c",
       "version_major": 2,
       "version_minor": 0
      },
      "text/plain": [
       "  0%|          | 0/1 [00:00<?, ?ba/s]"
      ]
     },
     "metadata": {},
     "output_type": "display_data"
    },
    {
     "name": "stdout",
     "output_type": "stream",
     "text": [
      "CPU times: user 2min 29s, sys: 6.2 s, total: 2min 36s\n",
      "Wall time: 2min 38s\n"
     ]
    }
   ],
   "source": [
    "%%time \n",
    "\n",
    "#CHANGE DS ARGS\n",
    "#tokenize dataset for all 3 models\n",
    "for ckpt in ckpts:\n",
    "    write_tokenize(ckpt, PATENT_ARGS)"
   ]
  },
  {
   "cell_type": "markdown",
   "id": "7f9d3d6d",
   "metadata": {
    "id": "05fccd38"
   },
   "source": [
    "## Summarization"
   ]
  },
  {
   "cell_type": "code",
   "execution_count": 4,
   "id": "075d3897",
   "metadata": {
    "id": "qGMmJmPV5Yfp"
   },
   "outputs": [],
   "source": [
    "import string\n",
    "import re\n",
    "\n",
    "def clean(s):\n",
    "    a = s.translate(str.maketrans(' ', ' ', string.punctuation))\n",
    "    return re.sub('\\s+',' ', a).replace('\\n', '').strip()\n",
    "\n",
    "def chunks(list_of_elements, batch_size=5):\n",
    "    \"\"\"Yield successive batch-sized chunks from list_of_elements.\"\"\"\n",
    "    for i in range(0, len(list_of_elements), batch_size):\n",
    "        yield list_of_elements[i : i + batch_size]\n",
    "\n",
    "def create_summaries(model_ckpt, total_articles, ds_args, batch_size=5):\n",
    "    \n",
    "    nickname = model_ckpt.replace(\"/\", \"-\").replace(\"_\", \"-\")\n",
    "    out_path = f\"./processed/{nickname}/{ds_args['path']}\"\n",
    "    \n",
    "    #Loads tokenized df if it's on the disk\n",
    "    data = load_from_disk(out_path)\n",
    "\n",
    "    #Change inputs to tensors\n",
    "    if total_articles:\n",
    "        ground_truths = list(data['abstract'])[:total_articles]\n",
    "        data.set_format(\"torch\", columns=[\"input_ids\", \"attention_mask\"])\n",
    "        data = data.select([i for i in range(total_articles)])\n",
    "    if not total_articles:\n",
    "        ground_truths = list(data['abstract'])\n",
    "        data.set_format(\"torch\", columns=[\"input_ids\", \"attention_mask\"])\n",
    "    \n",
    "    torch.cuda.empty_cache()\n",
    "    all_summaries = []\n",
    "    \n",
    "    #Load model based on supplied checkpoint (i.e. distilbart-cnn-dailymail)\n",
    "    model = AutoModelForSeq2SeqLM.from_pretrained(model_ckpt, cache_dir=MODEL_CACHE_PATH)\n",
    "    tokenizer = AutoTokenizer.from_pretrained(model_ckpt, cache_dir=MODEL_CACHE_PATH)\n",
    "    model.to(device)\n",
    "        \n",
    "    #Chunk articles and iterate summarize by batch\n",
    "    article_batches = list(chunks(data, batch_size=batch_size))\n",
    "    for article_batch in tqdm(article_batches, total=len(article_batches)):\n",
    "\n",
    "        with torch.no_grad():\n",
    "            summaries = model.generate(\n",
    "                input_ids=article_batch[\"input_ids\"].to(device),\n",
    "                attention_mask=article_batch[\"attention_mask\"].to(device),\n",
    "                length_penalty=2.5, \n",
    "                num_beams=8)\n",
    "\n",
    "        for s in summaries:\n",
    "            decoded_sum = tokenizer.decode(s, skip_special_tokens=True, clean_up_tokenization_spaces=True)\n",
    "            decoded_sum = decoded_sum.replace('\\n', '').replace('<n>', '')\n",
    "            all_summaries.append(decoded_sum)\n",
    "\n",
    "    torch.cuda.empty_cache()\n",
    "    del model \n",
    "\n",
    "    return {'summaries': all_summaries, 'ground_truth': ground_truths}"
   ]
  },
  {
   "cell_type": "code",
   "execution_count": 5,
   "id": "f77532c8",
   "metadata": {
    "colab": {
     "base_uri": "https://localhost:8080/",
     "height": 417,
     "referenced_widgets": [
      "a27de23262fc464ca4f19cf5a5dea294",
      "05cdd02ae9b54171953cadfaede6b4e5",
      "3ae8b26077e14a92a305e33921ef3ba0",
      "93b35e3b774a4174969ed034a1d2ad32",
      "a3465e5e46804a158009f3b4b35e4fca",
      "1c5c9b32b95047119bcd39dbb0313a48",
      "dc362db7c93b43bca6df47fe9f964433",
      "938023d05d4f4cab95ee140cf9aa03b5",
      "37bbb8b7a02c4b2798f961a11a2a2882",
      "06ef4c0d5c1846d4bb54bc7cb3fdfc7b",
      "eaa6f3ea990c46f0884b8a217ccd926e",
      "f52589ec743e4c8fa39676f846274317",
      "4aacc2198f8e45a49a9c146f0fa15f29",
      "b17cc7e25d624f0dac21f42375f7b651",
      "3cb1bc1b072d44a98bce2a4bd9dd7aff",
      "a0a31b9392be4c33af12e194e2c7d235",
      "7624859f76e84384a6b6181f2f9e18fa",
      "ad4ddbd361fe4ac6adb0c45ba19c50dc",
      "e62142af2e274372a88a090ec1952d42",
      "58ed30e829484fd1b2904eff639d3ffc",
      "fb5597125d104f1ebf154d03380c9173",
      "56dd401da5a04a7588e5b4f85ec8f8e9"
     ]
    },
    "id": "YUv_VwuKQ9RU",
    "outputId": "c7d73676-a4e0-4e98-cd8c-dab84b29f956"
   },
   "outputs": [
    {
     "name": "stderr",
     "output_type": "stream",
     "text": [
      "100%|██████████| 447/447 [28:06<00:00,  3.77s/it]\n"
     ]
    },
    {
     "name": "stdout",
     "output_type": "stream",
     "text": [
      "CPU times: user 24min 10s, sys: 3min 56s, total: 28min 6s\n",
      "Wall time: 28min 15s\n"
     ]
    }
   ],
   "source": [
    "%%time\n",
    "\n",
    "for ckpt in ckpts:\n",
    "    s = create_summaries(ckpt, total_articles=None, ds_args=PATENT_ARGS, batch_size=32)\n",
    "    output_df = pd.DataFrame(s).reset_index()\n",
    "    output_df.to_csv(f\"data/output_{ckpt.replace('/','')}.csv\", index=False)"
   ]
  }
 ],
 "metadata": {
  "accelerator": "TPU",
  "colab": {
   "machine_shape": "hm",
   "name": "pubmed_running.ipynb",
   "provenance": []
  },
  "kernelspec": {
   "display_name": "Python 3",
   "language": "python",
   "name": "python3"
  },
  "language_info": {
   "codemirror_mode": {
    "name": "ipython",
    "version": 3
   },
   "file_extension": ".py",
   "mimetype": "text/x-python",
   "name": "python",
   "nbconvert_exporter": "python",
   "pygments_lexer": "ipython3",
   "version": "3.8.8"
  },
  "widgets": {
   "application/vnd.jupyter.widget-state+json": {
    "05cdd02ae9b54171953cadfaede6b4e5": {
     "model_module": "@jupyter-widgets/controls",
     "model_module_version": "1.5.0",
     "model_name": "HTMLModel",
     "state": {
      "_dom_classes": [],
      "_model_module": "@jupyter-widgets/controls",
      "_model_module_version": "1.5.0",
      "_model_name": "HTMLModel",
      "_view_count": null,
      "_view_module": "@jupyter-widgets/controls",
      "_view_module_version": "1.5.0",
      "_view_name": "HTMLView",
      "description": "",
      "description_tooltip": null,
      "layout": "IPY_MODEL_1c5c9b32b95047119bcd39dbb0313a48",
      "placeholder": "​",
      "style": "IPY_MODEL_dc362db7c93b43bca6df47fe9f964433",
      "value": "Downloading: 100%"
     }
    },
    "06ef4c0d5c1846d4bb54bc7cb3fdfc7b": {
     "model_module": "@jupyter-widgets/base",
     "model_module_version": "1.2.0",
     "model_name": "LayoutModel",
     "state": {
      "_model_module": "@jupyter-widgets/base",
      "_model_module_version": "1.2.0",
      "_model_name": "LayoutModel",
      "_view_count": null,
      "_view_module": "@jupyter-widgets/base",
      "_view_module_version": "1.2.0",
      "_view_name": "LayoutView",
      "align_content": null,
      "align_items": null,
      "align_self": null,
      "border": null,
      "bottom": null,
      "display": null,
      "flex": null,
      "flex_flow": null,
      "grid_area": null,
      "grid_auto_columns": null,
      "grid_auto_flow": null,
      "grid_auto_rows": null,
      "grid_column": null,
      "grid_gap": null,
      "grid_row": null,
      "grid_template_areas": null,
      "grid_template_columns": null,
      "grid_template_rows": null,
      "height": null,
      "justify_content": null,
      "justify_items": null,
      "left": null,
      "margin": null,
      "max_height": null,
      "max_width": null,
      "min_height": null,
      "min_width": null,
      "object_fit": null,
      "object_position": null,
      "order": null,
      "overflow": null,
      "overflow_x": null,
      "overflow_y": null,
      "padding": null,
      "right": null,
      "top": null,
      "visibility": null,
      "width": null
     }
    },
    "1c5c9b32b95047119bcd39dbb0313a48": {
     "model_module": "@jupyter-widgets/base",
     "model_module_version": "1.2.0",
     "model_name": "LayoutModel",
     "state": {
      "_model_module": "@jupyter-widgets/base",
      "_model_module_version": "1.2.0",
      "_model_name": "LayoutModel",
      "_view_count": null,
      "_view_module": "@jupyter-widgets/base",
      "_view_module_version": "1.2.0",
      "_view_name": "LayoutView",
      "align_content": null,
      "align_items": null,
      "align_self": null,
      "border": null,
      "bottom": null,
      "display": null,
      "flex": null,
      "flex_flow": null,
      "grid_area": null,
      "grid_auto_columns": null,
      "grid_auto_flow": null,
      "grid_auto_rows": null,
      "grid_column": null,
      "grid_gap": null,
      "grid_row": null,
      "grid_template_areas": null,
      "grid_template_columns": null,
      "grid_template_rows": null,
      "height": null,
      "justify_content": null,
      "justify_items": null,
      "left": null,
      "margin": null,
      "max_height": null,
      "max_width": null,
      "min_height": null,
      "min_width": null,
      "object_fit": null,
      "object_position": null,
      "order": null,
      "overflow": null,
      "overflow_x": null,
      "overflow_y": null,
      "padding": null,
      "right": null,
      "top": null,
      "visibility": null,
      "width": null
     }
    },
    "37bbb8b7a02c4b2798f961a11a2a2882": {
     "model_module": "@jupyter-widgets/controls",
     "model_module_version": "1.5.0",
     "model_name": "ProgressStyleModel",
     "state": {
      "_model_module": "@jupyter-widgets/controls",
      "_model_module_version": "1.5.0",
      "_model_name": "ProgressStyleModel",
      "_view_count": null,
      "_view_module": "@jupyter-widgets/base",
      "_view_module_version": "1.2.0",
      "_view_name": "StyleView",
      "bar_color": null,
      "description_width": ""
     }
    },
    "3ae8b26077e14a92a305e33921ef3ba0": {
     "model_module": "@jupyter-widgets/controls",
     "model_module_version": "1.5.0",
     "model_name": "FloatProgressModel",
     "state": {
      "_dom_classes": [],
      "_model_module": "@jupyter-widgets/controls",
      "_model_module_version": "1.5.0",
      "_model_name": "FloatProgressModel",
      "_view_count": null,
      "_view_module": "@jupyter-widgets/controls",
      "_view_module_version": "1.5.0",
      "_view_name": "ProgressView",
      "bar_style": "success",
      "description": "",
      "description_tooltip": null,
      "layout": "IPY_MODEL_938023d05d4f4cab95ee140cf9aa03b5",
      "max": 1120,
      "min": 0,
      "orientation": "horizontal",
      "style": "IPY_MODEL_37bbb8b7a02c4b2798f961a11a2a2882",
      "value": 1120
     }
    },
    "3cb1bc1b072d44a98bce2a4bd9dd7aff": {
     "model_module": "@jupyter-widgets/controls",
     "model_module_version": "1.5.0",
     "model_name": "HTMLModel",
     "state": {
      "_dom_classes": [],
      "_model_module": "@jupyter-widgets/controls",
      "_model_module_version": "1.5.0",
      "_model_name": "HTMLModel",
      "_view_count": null,
      "_view_module": "@jupyter-widgets/controls",
      "_view_module_version": "1.5.0",
      "_view_name": "HTMLView",
      "description": "",
      "description_tooltip": null,
      "layout": "IPY_MODEL_fb5597125d104f1ebf154d03380c9173",
      "placeholder": "​",
      "style": "IPY_MODEL_56dd401da5a04a7588e5b4f85ec8f8e9",
      "value": " 1/6312 [01:46&lt;131:53:57, 75.24s/it]"
     }
    },
    "4aacc2198f8e45a49a9c146f0fa15f29": {
     "model_module": "@jupyter-widgets/controls",
     "model_module_version": "1.5.0",
     "model_name": "HTMLModel",
     "state": {
      "_dom_classes": [],
      "_model_module": "@jupyter-widgets/controls",
      "_model_module_version": "1.5.0",
      "_model_name": "HTMLModel",
      "_view_count": null,
      "_view_module": "@jupyter-widgets/controls",
      "_view_module_version": "1.5.0",
      "_view_name": "HTMLView",
      "description": "",
      "description_tooltip": null,
      "layout": "IPY_MODEL_7624859f76e84384a6b6181f2f9e18fa",
      "placeholder": "​",
      "style": "IPY_MODEL_ad4ddbd361fe4ac6adb0c45ba19c50dc",
      "value": "  0%"
     }
    },
    "56dd401da5a04a7588e5b4f85ec8f8e9": {
     "model_module": "@jupyter-widgets/controls",
     "model_module_version": "1.5.0",
     "model_name": "DescriptionStyleModel",
     "state": {
      "_model_module": "@jupyter-widgets/controls",
      "_model_module_version": "1.5.0",
      "_model_name": "DescriptionStyleModel",
      "_view_count": null,
      "_view_module": "@jupyter-widgets/base",
      "_view_module_version": "1.2.0",
      "_view_name": "StyleView",
      "description_width": ""
     }
    },
    "58ed30e829484fd1b2904eff639d3ffc": {
     "model_module": "@jupyter-widgets/controls",
     "model_module_version": "1.5.0",
     "model_name": "ProgressStyleModel",
     "state": {
      "_model_module": "@jupyter-widgets/controls",
      "_model_module_version": "1.5.0",
      "_model_name": "ProgressStyleModel",
      "_view_count": null,
      "_view_module": "@jupyter-widgets/base",
      "_view_module_version": "1.2.0",
      "_view_name": "StyleView",
      "bar_color": null,
      "description_width": ""
     }
    },
    "7624859f76e84384a6b6181f2f9e18fa": {
     "model_module": "@jupyter-widgets/base",
     "model_module_version": "1.2.0",
     "model_name": "LayoutModel",
     "state": {
      "_model_module": "@jupyter-widgets/base",
      "_model_module_version": "1.2.0",
      "_model_name": "LayoutModel",
      "_view_count": null,
      "_view_module": "@jupyter-widgets/base",
      "_view_module_version": "1.2.0",
      "_view_name": "LayoutView",
      "align_content": null,
      "align_items": null,
      "align_self": null,
      "border": null,
      "bottom": null,
      "display": null,
      "flex": null,
      "flex_flow": null,
      "grid_area": null,
      "grid_auto_columns": null,
      "grid_auto_flow": null,
      "grid_auto_rows": null,
      "grid_column": null,
      "grid_gap": null,
      "grid_row": null,
      "grid_template_areas": null,
      "grid_template_columns": null,
      "grid_template_rows": null,
      "height": null,
      "justify_content": null,
      "justify_items": null,
      "left": null,
      "margin": null,
      "max_height": null,
      "max_width": null,
      "min_height": null,
      "min_width": null,
      "object_fit": null,
      "object_position": null,
      "order": null,
      "overflow": null,
      "overflow_x": null,
      "overflow_y": null,
      "padding": null,
      "right": null,
      "top": null,
      "visibility": null,
      "width": null
     }
    },
    "938023d05d4f4cab95ee140cf9aa03b5": {
     "model_module": "@jupyter-widgets/base",
     "model_module_version": "1.2.0",
     "model_name": "LayoutModel",
     "state": {
      "_model_module": "@jupyter-widgets/base",
      "_model_module_version": "1.2.0",
      "_model_name": "LayoutModel",
      "_view_count": null,
      "_view_module": "@jupyter-widgets/base",
      "_view_module_version": "1.2.0",
      "_view_name": "LayoutView",
      "align_content": null,
      "align_items": null,
      "align_self": null,
      "border": null,
      "bottom": null,
      "display": null,
      "flex": null,
      "flex_flow": null,
      "grid_area": null,
      "grid_auto_columns": null,
      "grid_auto_flow": null,
      "grid_auto_rows": null,
      "grid_column": null,
      "grid_gap": null,
      "grid_row": null,
      "grid_template_areas": null,
      "grid_template_columns": null,
      "grid_template_rows": null,
      "height": null,
      "justify_content": null,
      "justify_items": null,
      "left": null,
      "margin": null,
      "max_height": null,
      "max_width": null,
      "min_height": null,
      "min_width": null,
      "object_fit": null,
      "object_position": null,
      "order": null,
      "overflow": null,
      "overflow_x": null,
      "overflow_y": null,
      "padding": null,
      "right": null,
      "top": null,
      "visibility": null,
      "width": null
     }
    },
    "93b35e3b774a4174969ed034a1d2ad32": {
     "model_module": "@jupyter-widgets/controls",
     "model_module_version": "1.5.0",
     "model_name": "HTMLModel",
     "state": {
      "_dom_classes": [],
      "_model_module": "@jupyter-widgets/controls",
      "_model_module_version": "1.5.0",
      "_model_name": "HTMLModel",
      "_view_count": null,
      "_view_module": "@jupyter-widgets/controls",
      "_view_module_version": "1.5.0",
      "_view_name": "HTMLView",
      "description": "",
      "description_tooltip": null,
      "layout": "IPY_MODEL_06ef4c0d5c1846d4bb54bc7cb3fdfc7b",
      "placeholder": "​",
      "style": "IPY_MODEL_eaa6f3ea990c46f0884b8a217ccd926e",
      "value": " 1.09k/1.09k [00:00&lt;00:00, 39.0kB/s]"
     }
    },
    "a0a31b9392be4c33af12e194e2c7d235": {
     "model_module": "@jupyter-widgets/base",
     "model_module_version": "1.2.0",
     "model_name": "LayoutModel",
     "state": {
      "_model_module": "@jupyter-widgets/base",
      "_model_module_version": "1.2.0",
      "_model_name": "LayoutModel",
      "_view_count": null,
      "_view_module": "@jupyter-widgets/base",
      "_view_module_version": "1.2.0",
      "_view_name": "LayoutView",
      "align_content": null,
      "align_items": null,
      "align_self": null,
      "border": null,
      "bottom": null,
      "display": null,
      "flex": null,
      "flex_flow": null,
      "grid_area": null,
      "grid_auto_columns": null,
      "grid_auto_flow": null,
      "grid_auto_rows": null,
      "grid_column": null,
      "grid_gap": null,
      "grid_row": null,
      "grid_template_areas": null,
      "grid_template_columns": null,
      "grid_template_rows": null,
      "height": null,
      "justify_content": null,
      "justify_items": null,
      "left": null,
      "margin": null,
      "max_height": null,
      "max_width": null,
      "min_height": null,
      "min_width": null,
      "object_fit": null,
      "object_position": null,
      "order": null,
      "overflow": null,
      "overflow_x": null,
      "overflow_y": null,
      "padding": null,
      "right": null,
      "top": null,
      "visibility": null,
      "width": null
     }
    },
    "a27de23262fc464ca4f19cf5a5dea294": {
     "model_module": "@jupyter-widgets/controls",
     "model_module_version": "1.5.0",
     "model_name": "HBoxModel",
     "state": {
      "_dom_classes": [],
      "_model_module": "@jupyter-widgets/controls",
      "_model_module_version": "1.5.0",
      "_model_name": "HBoxModel",
      "_view_count": null,
      "_view_module": "@jupyter-widgets/controls",
      "_view_module_version": "1.5.0",
      "_view_name": "HBoxView",
      "box_style": "",
      "children": [
       "IPY_MODEL_05cdd02ae9b54171953cadfaede6b4e5",
       "IPY_MODEL_3ae8b26077e14a92a305e33921ef3ba0",
       "IPY_MODEL_93b35e3b774a4174969ed034a1d2ad32"
      ],
      "layout": "IPY_MODEL_a3465e5e46804a158009f3b4b35e4fca"
     }
    },
    "a3465e5e46804a158009f3b4b35e4fca": {
     "model_module": "@jupyter-widgets/base",
     "model_module_version": "1.2.0",
     "model_name": "LayoutModel",
     "state": {
      "_model_module": "@jupyter-widgets/base",
      "_model_module_version": "1.2.0",
      "_model_name": "LayoutModel",
      "_view_count": null,
      "_view_module": "@jupyter-widgets/base",
      "_view_module_version": "1.2.0",
      "_view_name": "LayoutView",
      "align_content": null,
      "align_items": null,
      "align_self": null,
      "border": null,
      "bottom": null,
      "display": null,
      "flex": null,
      "flex_flow": null,
      "grid_area": null,
      "grid_auto_columns": null,
      "grid_auto_flow": null,
      "grid_auto_rows": null,
      "grid_column": null,
      "grid_gap": null,
      "grid_row": null,
      "grid_template_areas": null,
      "grid_template_columns": null,
      "grid_template_rows": null,
      "height": null,
      "justify_content": null,
      "justify_items": null,
      "left": null,
      "margin": null,
      "max_height": null,
      "max_width": null,
      "min_height": null,
      "min_width": null,
      "object_fit": null,
      "object_position": null,
      "order": null,
      "overflow": null,
      "overflow_x": null,
      "overflow_y": null,
      "padding": null,
      "right": null,
      "top": null,
      "visibility": null,
      "width": null
     }
    },
    "ad4ddbd361fe4ac6adb0c45ba19c50dc": {
     "model_module": "@jupyter-widgets/controls",
     "model_module_version": "1.5.0",
     "model_name": "DescriptionStyleModel",
     "state": {
      "_model_module": "@jupyter-widgets/controls",
      "_model_module_version": "1.5.0",
      "_model_name": "DescriptionStyleModel",
      "_view_count": null,
      "_view_module": "@jupyter-widgets/base",
      "_view_module_version": "1.2.0",
      "_view_name": "StyleView",
      "description_width": ""
     }
    },
    "b17cc7e25d624f0dac21f42375f7b651": {
     "model_module": "@jupyter-widgets/controls",
     "model_module_version": "1.5.0",
     "model_name": "FloatProgressModel",
     "state": {
      "_dom_classes": [],
      "_model_module": "@jupyter-widgets/controls",
      "_model_module_version": "1.5.0",
      "_model_name": "FloatProgressModel",
      "_view_count": null,
      "_view_module": "@jupyter-widgets/controls",
      "_view_module_version": "1.5.0",
      "_view_name": "ProgressView",
      "bar_style": "danger",
      "description": "",
      "description_tooltip": null,
      "layout": "IPY_MODEL_e62142af2e274372a88a090ec1952d42",
      "max": 6312,
      "min": 0,
      "orientation": "horizontal",
      "style": "IPY_MODEL_58ed30e829484fd1b2904eff639d3ffc",
      "value": 1
     }
    },
    "dc362db7c93b43bca6df47fe9f964433": {
     "model_module": "@jupyter-widgets/controls",
     "model_module_version": "1.5.0",
     "model_name": "DescriptionStyleModel",
     "state": {
      "_model_module": "@jupyter-widgets/controls",
      "_model_module_version": "1.5.0",
      "_model_name": "DescriptionStyleModel",
      "_view_count": null,
      "_view_module": "@jupyter-widgets/base",
      "_view_module_version": "1.2.0",
      "_view_name": "StyleView",
      "description_width": ""
     }
    },
    "e62142af2e274372a88a090ec1952d42": {
     "model_module": "@jupyter-widgets/base",
     "model_module_version": "1.2.0",
     "model_name": "LayoutModel",
     "state": {
      "_model_module": "@jupyter-widgets/base",
      "_model_module_version": "1.2.0",
      "_model_name": "LayoutModel",
      "_view_count": null,
      "_view_module": "@jupyter-widgets/base",
      "_view_module_version": "1.2.0",
      "_view_name": "LayoutView",
      "align_content": null,
      "align_items": null,
      "align_self": null,
      "border": null,
      "bottom": null,
      "display": null,
      "flex": null,
      "flex_flow": null,
      "grid_area": null,
      "grid_auto_columns": null,
      "grid_auto_flow": null,
      "grid_auto_rows": null,
      "grid_column": null,
      "grid_gap": null,
      "grid_row": null,
      "grid_template_areas": null,
      "grid_template_columns": null,
      "grid_template_rows": null,
      "height": null,
      "justify_content": null,
      "justify_items": null,
      "left": null,
      "margin": null,
      "max_height": null,
      "max_width": null,
      "min_height": null,
      "min_width": null,
      "object_fit": null,
      "object_position": null,
      "order": null,
      "overflow": null,
      "overflow_x": null,
      "overflow_y": null,
      "padding": null,
      "right": null,
      "top": null,
      "visibility": null,
      "width": null
     }
    },
    "eaa6f3ea990c46f0884b8a217ccd926e": {
     "model_module": "@jupyter-widgets/controls",
     "model_module_version": "1.5.0",
     "model_name": "DescriptionStyleModel",
     "state": {
      "_model_module": "@jupyter-widgets/controls",
      "_model_module_version": "1.5.0",
      "_model_name": "DescriptionStyleModel",
      "_view_count": null,
      "_view_module": "@jupyter-widgets/base",
      "_view_module_version": "1.2.0",
      "_view_name": "StyleView",
      "description_width": ""
     }
    },
    "f52589ec743e4c8fa39676f846274317": {
     "model_module": "@jupyter-widgets/controls",
     "model_module_version": "1.5.0",
     "model_name": "HBoxModel",
     "state": {
      "_dom_classes": [],
      "_model_module": "@jupyter-widgets/controls",
      "_model_module_version": "1.5.0",
      "_model_name": "HBoxModel",
      "_view_count": null,
      "_view_module": "@jupyter-widgets/controls",
      "_view_module_version": "1.5.0",
      "_view_name": "HBoxView",
      "box_style": "",
      "children": [
       "IPY_MODEL_4aacc2198f8e45a49a9c146f0fa15f29",
       "IPY_MODEL_b17cc7e25d624f0dac21f42375f7b651",
       "IPY_MODEL_3cb1bc1b072d44a98bce2a4bd9dd7aff"
      ],
      "layout": "IPY_MODEL_a0a31b9392be4c33af12e194e2c7d235"
     }
    },
    "fb5597125d104f1ebf154d03380c9173": {
     "model_module": "@jupyter-widgets/base",
     "model_module_version": "1.2.0",
     "model_name": "LayoutModel",
     "state": {
      "_model_module": "@jupyter-widgets/base",
      "_model_module_version": "1.2.0",
      "_model_name": "LayoutModel",
      "_view_count": null,
      "_view_module": "@jupyter-widgets/base",
      "_view_module_version": "1.2.0",
      "_view_name": "LayoutView",
      "align_content": null,
      "align_items": null,
      "align_self": null,
      "border": null,
      "bottom": null,
      "display": null,
      "flex": null,
      "flex_flow": null,
      "grid_area": null,
      "grid_auto_columns": null,
      "grid_auto_flow": null,
      "grid_auto_rows": null,
      "grid_column": null,
      "grid_gap": null,
      "grid_row": null,
      "grid_template_areas": null,
      "grid_template_columns": null,
      "grid_template_rows": null,
      "height": null,
      "justify_content": null,
      "justify_items": null,
      "left": null,
      "margin": null,
      "max_height": null,
      "max_width": null,
      "min_height": null,
      "min_width": null,
      "object_fit": null,
      "object_position": null,
      "order": null,
      "overflow": null,
      "overflow_x": null,
      "overflow_y": null,
      "padding": null,
      "right": null,
      "top": null,
      "visibility": null,
      "width": null
     }
    }
   }
  }
 },
 "nbformat": 4,
 "nbformat_minor": 5
}
